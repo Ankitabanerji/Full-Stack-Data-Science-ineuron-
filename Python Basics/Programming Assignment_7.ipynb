{
 "cells": [
  {
   "cell_type": "markdown",
   "id": "dee911b9",
   "metadata": {},
   "source": [
    "# Programming Assignment_7"
   ]
  },
  {
   "cell_type": "markdown",
   "id": "bbaf3865",
   "metadata": {},
   "source": [
    "### Q1. Write a Python Program to find sum of array?\n"
   ]
  },
  {
   "cell_type": "code",
   "execution_count": 3,
   "id": "47176155",
   "metadata": {},
   "outputs": [
    {
     "data": {
      "text/plain": [
       "13"
      ]
     },
     "execution_count": 3,
     "metadata": {},
     "output_type": "execute_result"
    }
   ],
   "source": [
    "from functools import reduce\n",
    "def sum_arr(arr):\n",
    "    return reduce(lambda a,b: a+b,arr)\n",
    "\n",
    "sum_arr([1,2,3,7,0])"
   ]
  },
  {
   "cell_type": "markdown",
   "id": "d1319e78",
   "metadata": {},
   "source": [
    "### Q2. Write a Python Program to find largest element in an array?\n"
   ]
  },
  {
   "cell_type": "code",
   "execution_count": 13,
   "id": "eaabbcf0",
   "metadata": {},
   "outputs": [
    {
     "data": {
      "text/plain": [
       "75"
      ]
     },
     "execution_count": 13,
     "metadata": {},
     "output_type": "execute_result"
    }
   ],
   "source": [
    "# using recursion and takes O(log(n)) time complexity\n",
    "def largest_arr(arr):\n",
    "    if len(arr) == 1:\n",
    "        return arr[0]\n",
    "    elif len(arr) ==2:\n",
    "        if arr[0]>arr[1]:\n",
    "            return arr[0]\n",
    "        else:\n",
    "            return arr[1]\n",
    "    else:\n",
    "        mid = len(arr)//2\n",
    "        max1 = largest_arr(arr[:mid])\n",
    "        max2 = largest_arr(arr[mid:])\n",
    "        if max1>max2:\n",
    "            return max1\n",
    "        else:\n",
    "            return max2\n",
    "\n",
    "largest_arr([25, 11, 7, 75, 56,4,5,6,8,11,0,75])     \n",
    "    "
   ]
  },
  {
   "cell_type": "code",
   "execution_count": 49,
   "id": "2548bc82",
   "metadata": {},
   "outputs": [
    {
     "data": {
      "text/plain": [
       "75"
      ]
     },
     "execution_count": 49,
     "metadata": {},
     "output_type": "execute_result"
    }
   ],
   "source": [
    "# using linear search with O(n) time complexity\n",
    "def largest1_arr(arr):\n",
    "    \n",
    "    max_v = arr[0]\n",
    "    for i in range(1,len(arr)):\n",
    "        if arr[i] >= max_v:\n",
    "            max_v = arr[i]\n",
    "    return max_v\n",
    "\n",
    "largest1_arr([25, 11, 7, 75, 56,4,5,6,8,11,0,75])"
   ]
  },
  {
   "cell_type": "markdown",
   "id": "c3696313",
   "metadata": {},
   "source": [
    "Or we can use imbuilt function max()"
   ]
  },
  {
   "cell_type": "code",
   "execution_count": 45,
   "id": "c5aa809b",
   "metadata": {},
   "outputs": [
    {
     "data": {
      "text/plain": [
       "75"
      ]
     },
     "execution_count": 45,
     "metadata": {},
     "output_type": "execute_result"
    }
   ],
   "source": [
    "max([25, 11, 7, 75, 56,4,5,6,8,11,0,75])"
   ]
  },
  {
   "cell_type": "markdown",
   "id": "0d7009b0",
   "metadata": {},
   "source": [
    "### Q3. Write a Python Program for array rotation?\n"
   ]
  },
  {
   "cell_type": "code",
   "execution_count": 36,
   "id": "7293e03c",
   "metadata": {},
   "outputs": [
    {
     "name": "stdout",
     "output_type": "stream",
     "text": [
      "[5, 1, 2, 3, 4]\n",
      "[5, 1, 2, 3, 4]\n"
     ]
    }
   ],
   "source": [
    "def left_rotate(arr,by):\n",
    "    return arr[by%len(arr):]+arr[:by%len(arr)]\n",
    "\n",
    "def right_rotate(arr,by):\n",
    "    return arr[-by%len(arr):] + arr[:len(arr)-by%len(arr)]\n",
    "\n",
    "print(left_rotate([1,2,3,4,5],9))\n",
    "print(right_rotate([1,2,3,4,5],6))\n",
    "    "
   ]
  },
  {
   "cell_type": "markdown",
   "id": "99c47a51",
   "metadata": {},
   "source": [
    "### Q4. Write a Python Program to Split the array and add the first part to the end?\n"
   ]
  },
  {
   "cell_type": "code",
   "execution_count": 41,
   "id": "f05821c9",
   "metadata": {},
   "outputs": [
    {
     "data": {
      "text/plain": [
       "[5, 6, 52, 36, 12, 10]"
      ]
     },
     "execution_count": 41,
     "metadata": {},
     "output_type": "execute_result"
    }
   ],
   "source": [
    "def split_arr(arr,pos):\n",
    "    return arr[pos:] +arr[:pos]\n",
    "\n",
    "split_arr([12, 10, 5, 6, 52, 36],2)"
   ]
  },
  {
   "cell_type": "markdown",
   "id": "6fa03be9",
   "metadata": {},
   "source": [
    "### Q5. Write a Python Program to check if given array is Monotonic?"
   ]
  },
  {
   "cell_type": "code",
   "execution_count": 44,
   "id": "39b14e83",
   "metadata": {},
   "outputs": [
    {
     "data": {
      "text/plain": [
       "False"
      ]
     },
     "execution_count": 44,
     "metadata": {},
     "output_type": "execute_result"
    }
   ],
   "source": [
    "def monotonic(arr):\n",
    "    return (all(arr[i] <= arr[i + 1] for i in range(len(arr) - 1)) or all(arr[i] >= arr[i + 1] for i in range(len(arr) - 1)))\n",
    "\n",
    "monotonic([6, 5, 4, 4,6])"
   ]
  }
 ],
 "metadata": {
  "kernelspec": {
   "display_name": "Python 3 (ipykernel)",
   "language": "python",
   "name": "python3"
  },
  "language_info": {
   "codemirror_mode": {
    "name": "ipython",
    "version": 3
   },
   "file_extension": ".py",
   "mimetype": "text/x-python",
   "name": "python",
   "nbconvert_exporter": "python",
   "pygments_lexer": "ipython3",
   "version": "3.9.12"
  }
 },
 "nbformat": 4,
 "nbformat_minor": 5
}
