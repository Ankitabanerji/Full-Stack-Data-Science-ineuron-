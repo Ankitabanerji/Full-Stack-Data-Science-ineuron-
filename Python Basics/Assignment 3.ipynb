{
 "cells": [
  {
   "cell_type": "markdown",
   "metadata": {},
   "source": [
    "# Assignment 3"
   ]
  },
  {
   "cell_type": "markdown",
   "metadata": {},
   "source": [
    "### Q1 Why are functions advantageous to have in your programs?"
   ]
  },
  {
   "cell_type": "markdown",
   "metadata": {},
   "source": [
    "1. Modular: It divides a large program into small modules. This makes the code easier to manage, debug, and scale. \n",
    "2. Reusability: We can use a piece of code again and again any where in the program we want just by calling the function.\n",
    "3. We can change functionality easily, and different programmers can work on different functions. "
   ]
  },
  {
   "cell_type": "markdown",
   "metadata": {},
   "source": [
    "### Q2 When does the code in a function run: when it is specified or when it is called?\n",
    "The code inside function runs when we call the function."
   ]
  },
  {
   "cell_type": "code",
   "execution_count": 1,
   "metadata": {},
   "outputs": [
    {
     "name": "stdout",
     "output_type": "stream",
     "text": [
      "function called\n"
     ]
    }
   ],
   "source": [
    "def call_this_func():\n",
    "    print('function called')\n",
    "    \n",
    "call_this_func()"
   ]
  },
  {
   "cell_type": "markdown",
   "metadata": {},
   "source": [
    "### Q3 What statement creates a function?"
   ]
  },
  {
   "cell_type": "code",
   "execution_count": 2,
   "metadata": {},
   "outputs": [],
   "source": [
    "def function_name():\n",
    "    \"\"\"docstring\"\"\"\n",
    "    # write your piece of code here\n",
    "    print('function created')"
   ]
  },
  {
   "cell_type": "markdown",
   "metadata": {},
   "source": [
    "### Q4 What is the difference between a function and a function call?\n",
    "\n",
    "Function is a piece/block of code that performs a particular operation. Where as we use function call to call or run that particular function.\n"
   ]
  },
  {
   "cell_type": "markdown",
   "metadata": {},
   "source": [
    "### Q5 How many global scopes are there in a Python program? How many local scopes?"
   ]
  },
  {
   "cell_type": "markdown",
   "metadata": {},
   "source": [
    "Global: The name defined in this scope are accessible to all your code <br>\n",
    "Local: The name defined in this scope is accessible to only the block it was declared in. i.e. in its local block."
   ]
  },
  {
   "cell_type": "code",
   "execution_count": 9,
   "metadata": {},
   "outputs": [
    {
     "name": "stdout",
     "output_type": "stream",
     "text": [
      "local variable a=  20\n",
      "Global variable a=  10\n"
     ]
    }
   ],
   "source": [
    "a = 10 # global variable\n",
    "\n",
    "def func():\n",
    "    a = 20 # local variable\n",
    "    print('local variable a= ', a)\n",
    "func()\n",
    "print('Global variable a= ', a)\n"
   ]
  },
  {
   "cell_type": "markdown",
   "metadata": {},
   "source": [
    "### Q6 What happens to variables in a local scope when the function call returns?\n",
    "After the function call returns, the local variables are destroyed."
   ]
  },
  {
   "cell_type": "markdown",
   "metadata": {},
   "source": [
    "### Q7 What is the concept of a return value? Is it possible to have a return value in an expression?\n",
    "\n",
    "Return statement is used inside a function and is used to end the execution of function call and return some value/result of the function back to the caller.\n",
    "\n",
    "We can use a return statement only inside a function or method definition. If you use it anywhere else, then you’ll get a SyntaxError"
   ]
  },
  {
   "cell_type": "code",
   "execution_count": 3,
   "metadata": {},
   "outputs": [
    {
     "ename": "SyntaxError",
     "evalue": "'return' outside function (1161732659.py, line 1)",
     "output_type": "error",
     "traceback": [
      "\u001b[1;36m  Input \u001b[1;32mIn [3]\u001b[1;36m\u001b[0m\n\u001b[1;33m    return 12\u001b[0m\n\u001b[1;37m    ^\u001b[0m\n\u001b[1;31mSyntaxError\u001b[0m\u001b[1;31m:\u001b[0m 'return' outside function\n"
     ]
    }
   ],
   "source": [
    "return 12"
   ]
  },
  {
   "cell_type": "code",
   "execution_count": 4,
   "metadata": {},
   "outputs": [
    {
     "data": {
      "text/plain": [
       "3"
      ]
     },
     "execution_count": 4,
     "metadata": {},
     "output_type": "execute_result"
    }
   ],
   "source": [
    "def add_num(a,b):\n",
    "    return a+b\n",
    "add_num(1,2)"
   ]
  },
  {
   "cell_type": "markdown",
   "metadata": {},
   "source": [
    "### Q8 If a function does not have a return statement, what is the return value of a call to that function?\n",
    "If there is no return statement in the function definition, then the function execution ends/returns to the caller after the last statement in that function is executed. In this case, the return value of the called function is undefined."
   ]
  },
  {
   "cell_type": "markdown",
   "metadata": {},
   "source": [
    "### Q9 How do you make a function variable refer to the global variable?\n",
    "\n",
    "To make a function variable refer to the global variable, we use `global` keyword"
   ]
  },
  {
   "cell_type": "code",
   "execution_count": 6,
   "metadata": {},
   "outputs": [
    {
     "name": "stdout",
     "output_type": "stream",
     "text": [
      "value of a =  20\n",
      "value of a =  20\n"
     ]
    }
   ],
   "source": [
    "a = 10\n",
    "\n",
    "def global_eg():\n",
    "    global a\n",
    "    a = 20\n",
    "    print('value of a = ',a)\n",
    "    \n",
    "global_eg()\n",
    "print('value of a = ',a)\n"
   ]
  },
  {
   "cell_type": "markdown",
   "metadata": {},
   "source": [
    "### Q10 What is the data type of None?"
   ]
  },
  {
   "cell_type": "code",
   "execution_count": 7,
   "metadata": {},
   "outputs": [
    {
     "data": {
      "text/plain": [
       "NoneType"
      ]
     },
     "execution_count": 7,
     "metadata": {},
     "output_type": "execute_result"
    }
   ],
   "source": [
    "type(None)"
   ]
  },
  {
   "cell_type": "markdown",
   "metadata": {},
   "source": [
    "### Q11 What does the sentence import areallyourpetsnamederic do?\n",
    "It imports code from `areallyourpetsnamederic` module into your program in which we write import statement."
   ]
  },
  {
   "cell_type": "markdown",
   "metadata": {},
   "source": [
    "### Q12 If you had a bacon() feature in a spam module, what would you call it after importing spam?\n",
    "\n",
    "import spam<br>\n",
    "spam.bacon()"
   ]
  },
  {
   "cell_type": "markdown",
   "metadata": {},
   "source": [
    "### Q13 What can you do to save a programme from crashing if it encounters an error?\n",
    "Inorder to save a programme from crashing if it encounters an error we must use try and except in our programs."
   ]
  },
  {
   "cell_type": "markdown",
   "metadata": {},
   "source": [
    "### Q14 What is the purpose of the try clause? What is the purpose of the except clause?\n",
    "The code inside the try block will execute when there is no error in the program. Whereas the code inside the except block will execute whenever the program encounters some error in the try block."
   ]
  }
 ],
 "metadata": {
  "kernelspec": {
   "display_name": "Python 3 (ipykernel)",
   "language": "python",
   "name": "python3"
  },
  "language_info": {
   "codemirror_mode": {
    "name": "ipython",
    "version": 3
   },
   "file_extension": ".py",
   "mimetype": "text/x-python",
   "name": "python",
   "nbconvert_exporter": "python",
   "pygments_lexer": "ipython3",
   "version": "3.9.12"
  }
 },
 "nbformat": 4,
 "nbformat_minor": 4
}
