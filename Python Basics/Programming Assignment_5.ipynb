{
 "cells": [
  {
   "cell_type": "markdown",
   "id": "e60cc609",
   "metadata": {},
   "source": [
    "# Programming Assignment_5"
   ]
  },
  {
   "cell_type": "markdown",
   "id": "d36e0c44",
   "metadata": {},
   "source": [
    "### Q1. Write a Python Program to Find LCM?\n"
   ]
  },
  {
   "cell_type": "code",
   "execution_count": 1,
   "id": "c9997f22",
   "metadata": {},
   "outputs": [
    {
     "name": "stdout",
     "output_type": "stream",
     "text": [
      "Enter first number: 3\n",
      "Enter second number: 4\n",
      "LCM of a,b=  12\n"
     ]
    }
   ],
   "source": [
    "def lcm_cal(a,b):\n",
    "    maxNum = max(a,b)\n",
    "    temp = maxNum\n",
    "    \n",
    "    while True:\n",
    "        try:\n",
    "            if (maxNum%a == 0 and maxNum%b==0):\n",
    "                print('LCM of a,b= ',maxNum)\n",
    "                break\n",
    "            maxNum += temp\n",
    "        except ZeroDivisionError:\n",
    "            print('LCM of a,b is not defined')\n",
    "            break\n",
    "\n",
    "a = int(input('Enter first number: '))\n",
    "b = int(input('Enter second number: '))\n",
    "lcm_cal(a,b)"
   ]
  },
  {
   "cell_type": "markdown",
   "id": "63566018",
   "metadata": {},
   "source": [
    "### Q2. Write a Python Program to Find HCF?\n"
   ]
  },
  {
   "cell_type": "code",
   "execution_count": 2,
   "id": "6487202b",
   "metadata": {},
   "outputs": [
    {
     "name": "stdout",
     "output_type": "stream",
     "text": [
      "Enter first number: 3\n",
      "Enter second number: 1\n",
      "HCF of a,b =  1\n"
     ]
    }
   ],
   "source": [
    "def hcf_cal(a,b):\n",
    "    if b== 0:\n",
    "        return a\n",
    "    else:\n",
    "        return hcf_cal(b, a%b) \n",
    "\n",
    "a = int(input('Enter first number: '))\n",
    "b = int(input('Enter second number: '))\n",
    "\n",
    "print('HCF of a,b = ',hcf_cal(a,b))"
   ]
  },
  {
   "cell_type": "markdown",
   "id": "5e8bde89",
   "metadata": {},
   "source": [
    "### Q3. Write a Python Program to Convert Decimal to Binary, Octal and Hexadecimal?"
   ]
  },
  {
   "cell_type": "code",
   "execution_count": 3,
   "id": "c4cdde99",
   "metadata": {},
   "outputs": [
    {
     "data": {
      "text/plain": [
       "'26'"
      ]
     },
     "execution_count": 3,
     "metadata": {},
     "output_type": "execute_result"
    }
   ],
   "source": [
    "b = []\n",
    "\n",
    "def binary_0ct_hex_cal(a,c):\n",
    "    '''Function to calculate either binary or octal.\n",
    "    For binary pass 2 as second argument\n",
    "    For octal pass 8 as second argument\n",
    "    For hex pass 16 as second argument'''\n",
    "    \n",
    "    if a//c == 0:\n",
    "        if a < 10:\n",
    "            b.insert(0,str(a))\n",
    "        else:\n",
    "            b.insert(0,chr(a+87))\n",
    "            \n",
    "        return \"\".join(b)\n",
    "    \n",
    "    else:\n",
    "        remainder = a%c\n",
    "        if remainder < 10:\n",
    "            b.insert(0,str(remainder))\n",
    "        else:\n",
    "            b.insert(0,chr(remainder +87))\n",
    "            \n",
    "        return binary_0ct_hex_cal(a//c,c)\n",
    "\n",
    "    \n",
    "\n",
    "binary_0ct_hex_cal(22,8)"
   ]
  },
  {
   "cell_type": "markdown",
   "id": "38d408a0",
   "metadata": {},
   "source": [
    "or we can use imbulit functions in python"
   ]
  },
  {
   "cell_type": "code",
   "execution_count": 7,
   "id": "0ef9ae17",
   "metadata": {},
   "outputs": [
    {
     "name": "stdout",
     "output_type": "stream",
     "text": [
      "Enter decimal number: 22\n",
      "Binary 0b10110\n",
      "Octal 0o26\n",
      "Hexadecimal 0x16\n"
     ]
    }
   ],
   "source": [
    "dec= int(input('Enter decimal number: '))\n",
    "print('Binary', bin(dec))\n",
    "print('Octal', oct(dec))\n",
    "print('Hexadecimal', hex(dec))"
   ]
  },
  {
   "cell_type": "markdown",
   "id": "2b497ace",
   "metadata": {},
   "source": [
    "### Q4. Write a Python Program To Find ASCII value of a character?"
   ]
  },
  {
   "cell_type": "code",
   "execution_count": 8,
   "id": "eafe9ae1",
   "metadata": {},
   "outputs": [
    {
     "name": "stdout",
     "output_type": "stream",
     "text": [
      "Enter a character: s\n"
     ]
    },
    {
     "data": {
      "text/plain": [
       "115"
      ]
     },
     "execution_count": 8,
     "metadata": {},
     "output_type": "execute_result"
    }
   ],
   "source": [
    "ord(input('Enter a character: '))"
   ]
  },
  {
   "cell_type": "markdown",
   "id": "3eecdb0a",
   "metadata": {},
   "source": [
    "### Q5. Write a Python Program to Make a Simple Calculator with 4 basic mathematical operations?"
   ]
  },
  {
   "cell_type": "code",
   "execution_count": 10,
   "id": "b3edaf5c",
   "metadata": {},
   "outputs": [
    {
     "name": "stdout",
     "output_type": "stream",
     "text": [
      "Please select operation -\n",
      "1. Add\n",
      "2. Subtract\n",
      "3. Multiply\n",
      "4. Divide\n",
      "1\n",
      "Enter 1st num1\n",
      "Enter 2st num2\n",
      "Addition of 1.0, 2.0 = 3.0\n",
      "What to calculate more [y]yes, [n]no: y\n",
      "Please select operation -\n",
      "1. Add\n",
      "2. Subtract\n",
      "3. Multiply\n",
      "4. Divide\n",
      "3\n",
      "Enter 1st num4\n",
      "Enter 2st num3\n",
      "Multiplication of 4.0, 3.0 = 12.0\n",
      "What to calculate more [y]yes, [n]no: n\n"
     ]
    }
   ],
   "source": [
    "# Function to add two numbers\n",
    "def add(num1, num2):\n",
    "    return num1 + num2\n",
    " \n",
    "# Function to subtract two numbers\n",
    "def subtract(num1, num2):\n",
    "    return num1 - num2\n",
    " \n",
    "# Function to multiply two numbers\n",
    "def multiply(num1, num2):\n",
    "    return num1 * num2\n",
    " \n",
    "# Function to divide two numbers\n",
    "def divide(num1, num2):\n",
    "    return num1 / num2\n",
    "ch = 'y'\n",
    "while ch in ['y','Y']:\n",
    "    op = int(input(\"Please select operation -\\n\" \\\n",
    "        \"1. Add\\n\" \\\n",
    "        \"2. Subtract\\n\"\\\n",
    "        \"3. Multiply\\n\"\\\n",
    "        \"4. Divide\\n\"))\n",
    "    a = float(input('Enter 1st num'))\n",
    "    b = float(input('Enter 2st num'))\n",
    "    if op== 1:\n",
    "        print('Addition of {0}, {1} = {2}'.format(a,b,add(a,b)))\n",
    "    elif op==2:\n",
    "        print('Subtraction of {0}, {1} = {2}'.format(a,b,subtract(a,b)))\n",
    "    elif op == 3:\n",
    "        print('Multiplication of {0}, {1} = {2}'.format(a,b,multiply(a,b)))\n",
    "    elif op==4:\n",
    "        print('Division of {0}, {1} = {2}'.format(a,b,divide(a,b)))\n",
    "        \n",
    "    ch = input('What to calculate more [y]yes, [n]no: ')\n"
   ]
  },
  {
   "cell_type": "code",
   "execution_count": null,
   "id": "b11f563c",
   "metadata": {},
   "outputs": [],
   "source": []
  }
 ],
 "metadata": {
  "kernelspec": {
   "display_name": "Python 3 (ipykernel)",
   "language": "python",
   "name": "python3"
  },
  "language_info": {
   "codemirror_mode": {
    "name": "ipython",
    "version": 3
   },
   "file_extension": ".py",
   "mimetype": "text/x-python",
   "name": "python",
   "nbconvert_exporter": "python",
   "pygments_lexer": "ipython3",
   "version": "3.9.12"
  }
 },
 "nbformat": 4,
 "nbformat_minor": 5
}
