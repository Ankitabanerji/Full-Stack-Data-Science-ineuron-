{
 "cells": [
  {
   "cell_type": "markdown",
   "id": "c5f78560",
   "metadata": {},
   "source": [
    "# Assignment 6"
   ]
  },
  {
   "cell_type": "markdown",
   "id": "a4a1554c",
   "metadata": {},
   "source": [
    "### Q1. What are escape characters, and how do you use them?\n",
    "We need escape characters to insert characters in string that are illegal. An escape character is a backslash \\ followed by the character we want to insert."
   ]
  },
  {
   "cell_type": "code",
   "execution_count": null,
   "id": "d5a0f3fa",
   "metadata": {},
   "outputs": [],
   "source": [
    "# we will get an error if we use double quotes inside a string that is surrounded by double quotes\n",
    "eg1 = \"hello from \"earth\"\""
   ]
  },
  {
   "cell_type": "code",
   "execution_count": null,
   "id": "ad014734",
   "metadata": {},
   "outputs": [],
   "source": [
    "eg1 = \"hello from \\\"earth\\\"\"\n",
    "eg1"
   ]
  },
  {
   "cell_type": "markdown",
   "id": "d25af7a5",
   "metadata": {},
   "source": [
    "### Q2. What do the escape characters n and t stand for?\n",
    "\\n is for New Line and \\t is for tab"
   ]
  },
  {
   "cell_type": "code",
   "execution_count": null,
   "id": "ea065f18",
   "metadata": {},
   "outputs": [],
   "source": [
    "eg2 = \"hello \\nworld \"\n",
    "eg3 = \"hello\\tworld\"\n",
    "print(eg2)\n",
    "print('--------')\n",
    "print(eg3)"
   ]
  },
  {
   "cell_type": "markdown",
   "id": "531c562d",
   "metadata": {},
   "source": [
    "### Q3. What is the way to include backslash characters in a string?\n",
    "`\\\\` will insert backslash"
   ]
  },
  {
   "cell_type": "markdown",
   "id": "0408e1dd",
   "metadata": {},
   "source": [
    "### Q4. The string &quot;Howl&#39;s Moving Castle&quot; is a correct value. Why isn&#39;t the single quote character in the word Howl&#39;s not escaped a problem?\n"
   ]
  },
  {
   "cell_type": "markdown",
   "id": "a268fcb9",
   "metadata": {},
   "source": [
    "The single quote character in the word `Howl's` not escaped a problem since it does not consider single quote as the end of the string.\n",
    "If double quotes would have been used it would have thrown error because double quote after `How\"s` is considered as the end of the string and rest part is not the part of a string."
   ]
  },
  {
   "cell_type": "markdown",
   "id": "0e8b36c7",
   "metadata": {},
   "source": [
    "### Q5. How do you write a string of newlines if you don&#39;t want to use the n character?\n"
   ]
  },
  {
   "cell_type": "code",
   "execution_count": 5,
   "id": "5695185c",
   "metadata": {},
   "outputs": [
    {
     "name": "stdout",
     "output_type": "stream",
     "text": [
      "Hello \n",
      "World\n"
     ]
    }
   ],
   "source": [
    "print('Hello \\nWorld')"
   ]
  },
  {
   "cell_type": "markdown",
   "id": "6826ef74",
   "metadata": {},
   "source": [
    "he output will be printed in separate lines because \\n has been added \"behind the scenes\" to the end of each line"
   ]
  },
  {
   "cell_type": "code",
   "execution_count": 6,
   "id": "3f7f5d05",
   "metadata": {},
   "outputs": [
    {
     "name": "stdout",
     "output_type": "stream",
     "text": [
      "hello\n",
      "world\n"
     ]
    }
   ],
   "source": [
    "print(\"hello\")\n",
    "print('world')"
   ]
  },
  {
   "cell_type": "markdown",
   "id": "7140eb1b",
   "metadata": {},
   "source": [
    "### Q6. What are the values of the given expressions?\n",
    "&#39;Hello, world!&#39;[1] <br>\n",
    "&#39;Hello, world!&#39;[0:5] <br>\n",
    "&#39;Hello, world!&#39;[:5] <br>\n",
    "&#39;Hello, world!&#39;[3:]\n",
    "\n"
   ]
  },
  {
   "cell_type": "code",
   "execution_count": 9,
   "id": "23e809f9",
   "metadata": {},
   "outputs": [
    {
     "name": "stdout",
     "output_type": "stream",
     "text": [
      "e\n",
      "Hello\n",
      "Hello\n",
      "lo, world!\n"
     ]
    }
   ],
   "source": [
    "print('Hello, world!'[1])\n",
    "print('Hello, world!'[0:5])\n",
    "print('Hello, world!'[:5])\n",
    "print('Hello, world!'[3:])"
   ]
  },
  {
   "cell_type": "markdown",
   "id": "32537412",
   "metadata": {},
   "source": [
    "### Q7. What are the values of the following expressions?\n",
    "&#39;Hello&#39;.upper() <br>\n",
    "&#39;Hello&#39;.upper().isupper()<br>\n",
    "&#39;Hello&#39;.upper().lower()\n"
   ]
  },
  {
   "cell_type": "code",
   "execution_count": 10,
   "id": "c8fc1caf",
   "metadata": {},
   "outputs": [
    {
     "name": "stdout",
     "output_type": "stream",
     "text": [
      "HELLO\n",
      "True\n",
      "hello\n"
     ]
    }
   ],
   "source": [
    "print('Hello'.upper())\n",
    "print('Hello'.upper().isupper())\n",
    "print('Hello'.upper().lower())"
   ]
  },
  {
   "cell_type": "markdown",
   "id": "e7dc6bae",
   "metadata": {},
   "source": [
    "### Q8. What are the values of the following expressions?\n",
    "&#39;Remember, remember, the fifth of July.&#39;.split() <br>\n",
    "&#39;-&#39;.join(&#39;There can only one.&#39;.split())\n"
   ]
  },
  {
   "cell_type": "code",
   "execution_count": 12,
   "id": "53c80869",
   "metadata": {},
   "outputs": [
    {
     "data": {
      "text/plain": [
       "['Remember,', 'remember,', 'the', 'fifth', 'of', 'July.']"
      ]
     },
     "execution_count": 12,
     "metadata": {},
     "output_type": "execute_result"
    }
   ],
   "source": [
    "# split the string by space\n",
    "'Remember, remember, the fifth of July.'.split()"
   ]
  },
  {
   "cell_type": "code",
   "execution_count": 14,
   "id": "1d02e7bf",
   "metadata": {},
   "outputs": [
    {
     "data": {
      "text/plain": [
       "'There-can-only-one.'"
      ]
     },
     "execution_count": 14,
     "metadata": {},
     "output_type": "execute_result"
    }
   ],
   "source": [
    "#first it will split the sting based on space and then join it based on -\n",
    "'-'.join('There can only one.'.split())"
   ]
  },
  {
   "cell_type": "markdown",
   "id": "5cebabe0",
   "metadata": {},
   "source": [
    "### Q9. What are the methods for right-justifying, left-justifying, and centering a string?\n",
    "<b>left-justifying </b>: str.ljust(s, width[, fillchar]) <br>\n",
    "<b>right-justifying </b> : str.rjust(s, width[, fillchar]) <br>\n",
    "<b>centering</b>: str.center(s, width[, fillchar])"
   ]
  },
  {
   "cell_type": "code",
   "execution_count": 18,
   "id": "1d8596c2",
   "metadata": {},
   "outputs": [
    {
     "name": "stdout",
     "output_type": "stream",
     "text": [
      "hello from earth              \n",
      "              hello from earth\n",
      "       hello from earth       \n"
     ]
    }
   ],
   "source": [
    "#left-justifying\n",
    "print(\"hello from earth\".ljust(30))\n",
    "\n",
    "#right-justifying\n",
    "print(\"hello from earth\".rjust(30))\n",
    "\n",
    "#centering\n",
    "print(\"hello from earth\".center(30))"
   ]
  },
  {
   "cell_type": "markdown",
   "id": "63102e64",
   "metadata": {},
   "source": [
    "### Q10. What is the best way to remove whitespace characters from the start or end?\n",
    "We can remove whitespace characters from the start or end using strip() method."
   ]
  },
  {
   "cell_type": "code",
   "execution_count": 19,
   "id": "93133363",
   "metadata": {},
   "outputs": [
    {
     "data": {
      "text/plain": [
       "'hello'"
      ]
     },
     "execution_count": 19,
     "metadata": {},
     "output_type": "execute_result"
    }
   ],
   "source": [
    "\" hello \".strip()"
   ]
  }
 ],
 "metadata": {
  "kernelspec": {
   "display_name": "Python 3 (ipykernel)",
   "language": "python",
   "name": "python3"
  },
  "language_info": {
   "codemirror_mode": {
    "name": "ipython",
    "version": 3
   },
   "file_extension": ".py",
   "mimetype": "text/x-python",
   "name": "python",
   "nbconvert_exporter": "python",
   "pygments_lexer": "ipython3",
   "version": "3.9.12"
  }
 },
 "nbformat": 4,
 "nbformat_minor": 5
}
