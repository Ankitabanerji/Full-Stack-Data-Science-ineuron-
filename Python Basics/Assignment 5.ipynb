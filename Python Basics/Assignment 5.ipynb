{
 "cells": [
  {
   "cell_type": "markdown",
   "id": "712ba283",
   "metadata": {},
   "source": [
    "# Assignment 5"
   ]
  },
  {
   "cell_type": "markdown",
   "id": "89a41245",
   "metadata": {},
   "source": [
    "### Q1. What does an empty dictionary&#39;s code look like?\n"
   ]
  },
  {
   "cell_type": "code",
   "execution_count": 4,
   "id": "c4a1bc65",
   "metadata": {},
   "outputs": [],
   "source": [
    "dictionary1 = {}\n",
    "# or \n",
    "dictionary2 = dict()"
   ]
  },
  {
   "cell_type": "markdown",
   "id": "e6600727",
   "metadata": {},
   "source": [
    "### Q2. What is the value of a dictionary value with the key &#39;foo&#39; and the value 42?\n"
   ]
  },
  {
   "cell_type": "code",
   "execution_count": 6,
   "id": "524e4f8c",
   "metadata": {},
   "outputs": [
    {
     "name": "stdout",
     "output_type": "stream",
     "text": [
      "{'foo': 42}\n"
     ]
    }
   ],
   "source": [
    "d = {'foo': 42}\n",
    "print(d)"
   ]
  },
  {
   "cell_type": "markdown",
   "id": "03b703a2",
   "metadata": {},
   "source": [
    "### Q3. What is the most significant distinction between a dictionary and a list?\n",
    "1. A list is a collection of items, enclosed in [ ] and separated by commas. List items are ordered, changeable, and allow duplicate values. List items are indexed, the first item has index [0], the second item has index [1] etc.\n",
    "\n",
    "2. Dictionary in Python on the other hand is an unordered collection of data values. Dictionary holds key:value pair. Key-value is provided in the dictionary to make it more optimized. Each key-value pair in a Dictionary is separated by a colon : , whereas each key is separated by a ‘comma’."
   ]
  },
  {
   "cell_type": "markdown",
   "id": "f93f506b",
   "metadata": {},
   "source": [
    "### Q4. What happens if you try to access spam[&#39;foo&#39;] if spam is {&#39;bar&#39;: 100}?\n"
   ]
  },
  {
   "cell_type": "markdown",
   "id": "f90f963d",
   "metadata": {},
   "source": [
    "It will throw error"
   ]
  },
  {
   "cell_type": "code",
   "execution_count": 7,
   "id": "2f561582",
   "metadata": {},
   "outputs": [
    {
     "ename": "KeyError",
     "evalue": "'foo'",
     "output_type": "error",
     "traceback": [
      "\u001b[1;31m---------------------------------------------------------------------------\u001b[0m",
      "\u001b[1;31mKeyError\u001b[0m                                  Traceback (most recent call last)",
      "Input \u001b[1;32mIn [7]\u001b[0m, in \u001b[0;36m<cell line: 2>\u001b[1;34m()\u001b[0m\n\u001b[0;32m      1\u001b[0m spam \u001b[38;5;241m=\u001b[39m {\u001b[38;5;124m'\u001b[39m\u001b[38;5;124mbar\u001b[39m\u001b[38;5;124m'\u001b[39m:\u001b[38;5;241m100\u001b[39m}\n\u001b[1;32m----> 2\u001b[0m \u001b[43mspam\u001b[49m\u001b[43m[\u001b[49m\u001b[38;5;124;43m'\u001b[39;49m\u001b[38;5;124;43mfoo\u001b[39;49m\u001b[38;5;124;43m'\u001b[39;49m\u001b[43m]\u001b[49m\n",
      "\u001b[1;31mKeyError\u001b[0m: 'foo'"
     ]
    }
   ],
   "source": [
    "spam = {'bar':100}\n",
    "spam['foo']"
   ]
  },
  {
   "cell_type": "markdown",
   "id": "09003ae8",
   "metadata": {},
   "source": [
    "### Q5. If a dictionary is stored in spam, what is the difference between the expressions &#39;cat&#39; in spam and &#39;cat&#39; in spam.keys()?\n"
   ]
  },
  {
   "cell_type": "markdown",
   "id": "a45fb9df",
   "metadata": {},
   "source": [
    "The keys() method returns a view object. The view object contains the keys of the dictionary, as a list."
   ]
  },
  {
   "cell_type": "code",
   "execution_count": 22,
   "id": "dbf84eb9",
   "metadata": {},
   "outputs": [
    {
     "data": {
      "text/plain": [
       "dict_keys(['bar', 'color'])"
      ]
     },
     "execution_count": 22,
     "metadata": {},
     "output_type": "execute_result"
    }
   ],
   "source": [
    "spam.keys()"
   ]
  },
  {
   "cell_type": "markdown",
   "id": "d5fd9002",
   "metadata": {},
   "source": [
    "### Q6. If a dictionary is stored in spam, what is the difference between the expressions &#39;cat&#39; in spam and &#39;cat&#39; in spam.values()?\n",
    "\n",
    "values() is an inbuilt method in Python programming language that returns a view object. The view object contains the values of the dictionary, as a list\n"
   ]
  },
  {
   "cell_type": "code",
   "execution_count": 23,
   "id": "8c45789e",
   "metadata": {},
   "outputs": [
    {
     "data": {
      "text/plain": [
       "dict_values([100, 'black'])"
      ]
     },
     "execution_count": 23,
     "metadata": {},
     "output_type": "execute_result"
    }
   ],
   "source": [
    "spam.values()"
   ]
  },
  {
   "cell_type": "markdown",
   "id": "ffb8192b",
   "metadata": {},
   "source": [
    "### Q7. What is a shortcut for the following code? if &#39;color&#39; not in spam: spam[&#39;color&#39;] = &#39;black&#39;\n",
    "\n"
   ]
  },
  {
   "cell_type": "code",
   "execution_count": 19,
   "id": "570d7e1a",
   "metadata": {},
   "outputs": [],
   "source": [
    "spam['color'] = spam.get('color','black')"
   ]
  },
  {
   "cell_type": "code",
   "execution_count": 21,
   "id": "6439e2b4",
   "metadata": {},
   "outputs": [
    {
     "data": {
      "text/plain": [
       "{'bar': 100, 'color': 'black'}"
      ]
     },
     "execution_count": 21,
     "metadata": {},
     "output_type": "execute_result"
    }
   ],
   "source": [
    "spam"
   ]
  },
  {
   "cell_type": "markdown",
   "id": "a0926bb4",
   "metadata": {},
   "source": [
    "### Q8. How do you &quot;pretty print&quot; dictionary values using which module and function?\n",
    "`pprint` is a Python module that provides the capability to pretty print Python data types to be more readable. This module also supports pretty-printing dictionary."
   ]
  },
  {
   "cell_type": "code",
   "execution_count": 14,
   "id": "0bc26e24",
   "metadata": {},
   "outputs": [
    {
     "name": "stdout",
     "output_type": "stream",
     "text": [
      "{'Fname': 'Ankita', 'Lname': 'Banerji', 'email': 'ankitajhumu@gmail.com'}\n"
     ]
    }
   ],
   "source": [
    "import pprint\n",
    "dct = {'Fname': 'Ankita', \n",
    "       'Lname':'Banerji',\n",
    "       'email':'ankitajhumu@gmail.com'}\n",
    "pprint.pprint(dct)"
   ]
  }
 ],
 "metadata": {
  "kernelspec": {
   "display_name": "Python 3 (ipykernel)",
   "language": "python",
   "name": "python3"
  },
  "language_info": {
   "codemirror_mode": {
    "name": "ipython",
    "version": 3
   },
   "file_extension": ".py",
   "mimetype": "text/x-python",
   "name": "python",
   "nbconvert_exporter": "python",
   "pygments_lexer": "ipython3",
   "version": "3.9.12"
  }
 },
 "nbformat": 4,
 "nbformat_minor": 5
}
