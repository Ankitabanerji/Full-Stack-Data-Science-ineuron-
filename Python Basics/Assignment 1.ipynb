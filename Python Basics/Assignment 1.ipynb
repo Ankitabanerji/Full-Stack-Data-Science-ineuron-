{
 "cells": [
  {
   "cell_type": "markdown",
   "metadata": {},
   "source": [
    "# Assignment 1"
   ]
  },
  {
   "cell_type": "markdown",
   "metadata": {},
   "source": [
    "### Q1. In the below elements which of them are values or an expression? eg:- values can be integer or string and expressions will be mathematical operator\n",
    "-<br>\n",
    "/<br>\n",
    "+<br>\n",
    "6<br>\n",
    "hello<br>\n",
    "-87.8<br>\n",
    "*\n",
    "### Ans:\n",
    "#### Values:\n",
    "1. 6\n",
    "2. hello\n",
    "3. -87.8\n",
    "\n",
    "#### Expression:\n",
    "1. -\n",
    "2. /\n",
    "3. +\n",
    "4. *"
   ]
  },
  {
   "cell_type": "markdown",
   "metadata": {},
   "source": [
    "# Q2 What is the difference between string and variable?\n",
    "<b>Variables</b> are used to store information like any data or value. It can be of any type like integer, float, boolean, dictionary and many more. Where as <b>string</b> is a type of variable."
   ]
  },
  {
   "cell_type": "markdown",
   "metadata": {},
   "source": [
    "# Q3. Describe three different data types.\n",
    "1. <b>Number:</b>Number data types store numeric values. Python supports three different numerical types −\n",
    "    - int (signed integers) eg: 10,-3,0\n",
    "    - float (floating point real values) eg: 0.1, -11.1\n",
    "    - complex (complex numbers) eg:3.14j, \n",
    "\n",
    "2. <b>String: </b>Strings in Python are identified as a contiguous set of characters represented in the quotation marks. eg: 'Hello world', \"Hello World\"\n",
    "\n",
    "3. <b>List: </b>List contains items separated by commas and enclosed within square brackets ([]). The values stored in a list can be accessed using the slice operator ([] and [:]) with indexes starting at 0 in the beginning of the list and working their way to end -1. eg: ['Ankita',1,3,5,'Nikita']"
   ]
  },
  {
   "cell_type": "markdown",
   "metadata": {},
   "source": [
    "# Q4. What is an expression made up of? What do all expressions do?\n",
    "Python expressions only contain identifiers, literals, and operators.\n",
    "- Any name that is used to define a class, function, variable module, or object is an identifier.\n",
    "- Operators are used to perform operations on variables and values eg: +,- * etc\n",
    "- Python literals are quantities/ notations whose value does not change during the execution of a program.There are five types of literal in Python, which are as follows-\n",
    "     - String Literals\n",
    "     - Numeric Literals\n",
    "     - Boolean Literals\n",
    "     - Literal Collections\n",
    "     - Special Literals\n"
   ]
  },
  {
   "cell_type": "markdown",
   "metadata": {},
   "source": [
    "# Q5. This assignment statements, like spam = 10. What is the difference between an expression and a statement?\n",
    "- Python expressions only contain identifiers, literals, and operators. It always evaluates to a value.<br>\n",
    "eg: <br>3+4, range(0,7) etc<br>\n",
    "- Where as statements are everything that can make up a line (or several lines) of Python code. Expressions are parts of statements.<br>\n",
    "eg:<br>\n",
    "print(\"Hello\")<br>\n",
    "a = 10 etc"
   ]
  },
  {
   "cell_type": "markdown",
   "metadata": {},
   "source": [
    "# Q6. After running the following code, what does the variable bacon contain?"
   ]
  },
  {
   "cell_type": "code",
   "execution_count": 1,
   "metadata": {},
   "outputs": [
    {
     "data": {
      "text/plain": [
       "23"
      ]
     },
     "execution_count": 1,
     "metadata": {},
     "output_type": "execute_result"
    }
   ],
   "source": [
    "bacon = 22\n",
    "bacon + 1"
   ]
  },
  {
   "cell_type": "code",
   "execution_count": 2,
   "metadata": {},
   "outputs": [
    {
     "data": {
      "text/plain": [
       "22"
      ]
     },
     "execution_count": 2,
     "metadata": {},
     "output_type": "execute_result"
    }
   ],
   "source": [
    "bacon"
   ]
  },
  {
   "cell_type": "markdown",
   "metadata": {},
   "source": [
    "# Q7. What should the values of the following two terms be?"
   ]
  },
  {
   "cell_type": "code",
   "execution_count": 3,
   "metadata": {},
   "outputs": [
    {
     "data": {
      "text/plain": [
       "'spamspamspam'"
      ]
     },
     "execution_count": 3,
     "metadata": {},
     "output_type": "execute_result"
    }
   ],
   "source": [
    "\"spam\"+ \"spamspam\""
   ]
  },
  {
   "cell_type": "code",
   "execution_count": 4,
   "metadata": {},
   "outputs": [
    {
     "data": {
      "text/plain": [
       "'spamspamspam'"
      ]
     },
     "execution_count": 4,
     "metadata": {},
     "output_type": "execute_result"
    }
   ],
   "source": [
    "\"spam\"*3"
   ]
  },
  {
   "cell_type": "markdown",
   "metadata": {},
   "source": [
    "# Q8. Why is eggs a valid variable name while 100 is invalid?\n",
    "We need to follow some rules while creating a variable in programming.<br>\n",
    "Rules for Python variables:\n",
    "- A variable name must start with a letter or the underscore character\n",
    "- A variable name cannot start with a number\n",
    "- A variable name can only contain alpha-numeric characters and underscores (A-z, 0-9, and _ )\n",
    "- Variable names are case-sensitive (age, Age and AGE are three different variables)\n",
    "\n",
    "Due to the above rules eggs is valid variable name while 100 is invalid."
   ]
  },
  {
   "cell_type": "markdown",
   "metadata": {},
   "source": [
    "# Q9. What three functions can be used to get the integer, floating-point number, or string version of a value?\n",
    "We can use int(), float(), str()"
   ]
  },
  {
   "cell_type": "code",
   "execution_count": 5,
   "metadata": {},
   "outputs": [
    {
     "data": {
      "text/plain": [
       "12"
      ]
     },
     "execution_count": 5,
     "metadata": {},
     "output_type": "execute_result"
    }
   ],
   "source": [
    "int(\"12\")"
   ]
  },
  {
   "cell_type": "code",
   "execution_count": 6,
   "metadata": {},
   "outputs": [
    {
     "data": {
      "text/plain": [
       "10.0"
      ]
     },
     "execution_count": 6,
     "metadata": {},
     "output_type": "execute_result"
    }
   ],
   "source": [
    "float(10)"
   ]
  },
  {
   "cell_type": "code",
   "execution_count": 7,
   "metadata": {},
   "outputs": [
    {
     "data": {
      "text/plain": [
       "'4'"
      ]
     },
     "execution_count": 7,
     "metadata": {},
     "output_type": "execute_result"
    }
   ],
   "source": [
    "str(4)"
   ]
  },
  {
   "cell_type": "markdown",
   "metadata": {},
   "source": [
    "# Q10. Why does this expression cause an error? How can you fix it?\n",
    "'I have eaten'+ 99 + 'burritos.'\n",
    "<b> Ans:</b> We cant concatenated a string and an integer. so for that we need to convert interger to string"
   ]
  },
  {
   "cell_type": "code",
   "execution_count": 9,
   "metadata": {},
   "outputs": [
    {
     "ename": "TypeError",
     "evalue": "can only concatenate str (not \"int\") to str",
     "output_type": "error",
     "traceback": [
      "\u001b[1;31m---------------------------------------------------------------------------\u001b[0m",
      "\u001b[1;31mTypeError\u001b[0m                                 Traceback (most recent call last)",
      "\u001b[1;32m<ipython-input-9-74c1462f57c4>\u001b[0m in \u001b[0;36m<module>\u001b[1;34m\u001b[0m\n\u001b[1;32m----> 1\u001b[1;33m \u001b[1;34m'I have eaten'\u001b[0m\u001b[1;33m+\u001b[0m \u001b[1;36m99\u001b[0m \u001b[1;33m+\u001b[0m \u001b[1;34m'burritos.'\u001b[0m\u001b[1;33m\u001b[0m\u001b[1;33m\u001b[0m\u001b[0m\n\u001b[0m",
      "\u001b[1;31mTypeError\u001b[0m: can only concatenate str (not \"int\") to str"
     ]
    }
   ],
   "source": [
    "'I have eaten'+ 99 + 'burritos.'"
   ]
  },
  {
   "cell_type": "code",
   "execution_count": 11,
   "metadata": {},
   "outputs": [
    {
     "data": {
      "text/plain": [
       "'I have eaten 99 burritos.'"
      ]
     },
     "execution_count": 11,
     "metadata": {},
     "output_type": "execute_result"
    }
   ],
   "source": [
    "'I have eaten '+ '99' + ' burritos.'"
   ]
  },
  {
   "cell_type": "code",
   "execution_count": 12,
   "metadata": {},
   "outputs": [
    {
     "data": {
      "text/plain": [
       "'I have eaten 99 burritos.'"
      ]
     },
     "execution_count": 12,
     "metadata": {},
     "output_type": "execute_result"
    }
   ],
   "source": [
    "'I have eaten '+ str(99) + ' burritos.'"
   ]
  },
  {
   "cell_type": "code",
   "execution_count": null,
   "metadata": {},
   "outputs": [],
   "source": []
  }
 ],
 "metadata": {
  "kernelspec": {
   "display_name": "Python 3",
   "language": "python",
   "name": "python3"
  },
  "language_info": {
   "codemirror_mode": {
    "name": "ipython",
    "version": 3
   },
   "file_extension": ".py",
   "mimetype": "text/x-python",
   "name": "python",
   "nbconvert_exporter": "python",
   "pygments_lexer": "ipython3",
   "version": "3.8.3"
  }
 },
 "nbformat": 4,
 "nbformat_minor": 4
}
