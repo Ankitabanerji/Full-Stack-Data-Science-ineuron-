{
 "cells": [
  {
   "cell_type": "markdown",
   "id": "870694b4",
   "metadata": {},
   "source": [
    "# Programming Assignment_6"
   ]
  },
  {
   "cell_type": "markdown",
   "id": "b91038c3",
   "metadata": {},
   "source": [
    "### Q1. Write a Python Program to Display Fibonacci Sequence Using Recursion?\n"
   ]
  },
  {
   "cell_type": "code",
   "execution_count": 7,
   "id": "e76d3151",
   "metadata": {},
   "outputs": [
    {
     "name": "stdout",
     "output_type": "stream",
     "text": [
      "enter number: 8\n"
     ]
    },
    {
     "data": {
      "text/plain": [
       "[0, 1, 1, 2, 3, 5, 8, 13]"
      ]
     },
     "execution_count": 7,
     "metadata": {},
     "output_type": "execute_result"
    }
   ],
   "source": [
    "\n",
    "def fib_rec(num):\n",
    "    if num == 1 or num ==0:\n",
    "        return num\n",
    "    else:\n",
    "        return fib_rec(num-1) + fib_rec(num-2)\n",
    "\n",
    "ch = [fib_rec(i) for i in range(int(input('enter number: ')))]\n",
    "ch"
   ]
  },
  {
   "cell_type": "markdown",
   "id": "7e6fe386",
   "metadata": {},
   "source": [
    "### Q2. Write a Python Program to Find Factorial of Number Using Recursion?\n"
   ]
  },
  {
   "cell_type": "code",
   "execution_count": 12,
   "id": "e707c3cc",
   "metadata": {},
   "outputs": [
    {
     "name": "stdout",
     "output_type": "stream",
     "text": [
      "Enter number: 6\n"
     ]
    },
    {
     "data": {
      "text/plain": [
       "720"
      ]
     },
     "execution_count": 12,
     "metadata": {},
     "output_type": "execute_result"
    }
   ],
   "source": [
    "def fact_rec(num):\n",
    "    if num == 1 or num == 0:\n",
    "        return  1\n",
    "    else:\n",
    "        return num*fact_rec(num -1)\n",
    "    \n",
    "\n",
    "fact_rec(int(input(\"Enter number: \")))"
   ]
  },
  {
   "cell_type": "markdown",
   "id": "12d2bba5",
   "metadata": {},
   "source": [
    "### Q3. Write a Python Program to calculate your Body Mass Index?\n"
   ]
  },
  {
   "cell_type": "code",
   "execution_count": 18,
   "id": "b3b3c286",
   "metadata": {},
   "outputs": [
    {
     "name": "stdout",
     "output_type": "stream",
     "text": [
      "Enter your weight in KG: 59\n",
      "Enter your height in foot: 5.2\n",
      "Your BMI= 23.49kg/m2\n"
     ]
    }
   ],
   "source": [
    "weight = float(input(\"Enter your weight in KG: \"))\n",
    "height = float(input(\"Enter your height in foot: \"))\n",
    "\n",
    "BMI = weight/(height * 0.3048)**2\n",
    "\n",
    "print('Your BMI= {0:.2f}kg/m2'.format(BMI))"
   ]
  },
  {
   "cell_type": "markdown",
   "id": "5957d0f3",
   "metadata": {},
   "source": [
    "### Q4. Write a Python Program to calculate the natural logarithm of any number?\n"
   ]
  },
  {
   "cell_type": "code",
   "execution_count": 20,
   "id": "31fbdc89",
   "metadata": {},
   "outputs": [
    {
     "name": "stdout",
     "output_type": "stream",
     "text": [
      "Enter number: 0.1\n",
      "-2.3025850929940455\n"
     ]
    }
   ],
   "source": [
    "import math\n",
    "print(math.log(float(input('Enter number: '))))"
   ]
  },
  {
   "cell_type": "markdown",
   "id": "4353ab10",
   "metadata": {},
   "source": [
    "### Q5. Write a Python Program for cube sum of first n natural numbers?"
   ]
  },
  {
   "cell_type": "code",
   "execution_count": 22,
   "id": "146bf04d",
   "metadata": {},
   "outputs": [
    {
     "name": "stdout",
     "output_type": "stream",
     "text": [
      "Enter number: 7\n"
     ]
    },
    {
     "data": {
      "text/plain": [
       "784.0"
      ]
     },
     "execution_count": 22,
     "metadata": {},
     "output_type": "execute_result"
    }
   ],
   "source": [
    "def cube_sum(num):\n",
    "    return ((num*(num+1))/2)**2\n",
    "\n",
    "cube_sum(int(input('Enter number: ')))"
   ]
  }
 ],
 "metadata": {
  "kernelspec": {
   "display_name": "Python 3 (ipykernel)",
   "language": "python",
   "name": "python3"
  },
  "language_info": {
   "codemirror_mode": {
    "name": "ipython",
    "version": 3
   },
   "file_extension": ".py",
   "mimetype": "text/x-python",
   "name": "python",
   "nbconvert_exporter": "python",
   "pygments_lexer": "ipython3",
   "version": "3.9.12"
  }
 },
 "nbformat": 4,
 "nbformat_minor": 5
}
