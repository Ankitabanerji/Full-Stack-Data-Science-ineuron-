{
 "cells": [
  {
   "cell_type": "markdown",
   "id": "27e83362",
   "metadata": {},
   "source": [
    "# Programming Assignment_2"
   ]
  },
  {
   "cell_type": "markdown",
   "id": "fa41e61b",
   "metadata": {},
   "source": [
    "### Q1. Write a Python program to convert kilometers to miles?\n"
   ]
  },
  {
   "cell_type": "code",
   "execution_count": 6,
   "id": "227dc8e6",
   "metadata": {},
   "outputs": [
    {
     "name": "stdout",
     "output_type": "stream",
     "text": [
      "3.5\n",
      "3.50 km = 2.17 mile\n"
     ]
    }
   ],
   "source": [
    "dist_km = float(input())\n",
    "\n",
    "def km_to_mile(km):\n",
    "    mile = km*0.621371\n",
    "    return mile\n",
    "\n",
    "print(\"{0:.2f} km = {1:.2f} mile\".format(dist_km,km_to_mile(dist_km)))\n",
    "    "
   ]
  },
  {
   "cell_type": "markdown",
   "id": "3170ab66",
   "metadata": {},
   "source": [
    "### Q2. Write a Python program to convert Celsius to Fahrenheit?\n"
   ]
  },
  {
   "cell_type": "code",
   "execution_count": 9,
   "id": "7b5435c1",
   "metadata": {},
   "outputs": [
    {
     "name": "stdout",
     "output_type": "stream",
     "text": [
      "enter temp in celcius: 30\n",
      "86.0 fahrenheit\n"
     ]
    }
   ],
   "source": [
    "def celsius_to_fahrenheit(celsius):\n",
    "    fahrenheit = celsius * 1.8 + 32\n",
    "    return fahrenheit\n",
    "\n",
    "print(celsius_to_fahrenheit(float(input('enter temp in celcius: '))),'fahrenheit')"
   ]
  },
  {
   "cell_type": "markdown",
   "id": "f7690c6e",
   "metadata": {},
   "source": [
    "### Q3. Write a Python program to display calendar?"
   ]
  },
  {
   "cell_type": "code",
   "execution_count": 10,
   "id": "692484ca",
   "metadata": {},
   "outputs": [
    {
     "name": "stdout",
     "output_type": "stream",
     "text": [
      "     July 2022\n",
      "Mo Tu We Th Fr Sa Su\n",
      "             1  2  3\n",
      " 4  5  6  7  8  9 10\n",
      "11 12 13 14 15 16 17\n",
      "18 19 20 21 22 23 24\n",
      "25 26 27 28 29 30 31\n",
      "\n"
     ]
    }
   ],
   "source": [
    "import calendar\n",
    "\n",
    "print(calendar.month(2022, 7))"
   ]
  },
  {
   "cell_type": "markdown",
   "id": "ec40c2db",
   "metadata": {},
   "source": [
    "### Q4. Write a Python program to solve quadratic equation?\n",
    "\n",
    "quadratic equation =  ax<sup>2</sup> + bx+ c where a,b,c are real numbers, where a<>0"
   ]
  },
  {
   "cell_type": "code",
   "execution_count": 21,
   "id": "6b6c6b21",
   "metadata": {},
   "outputs": [
    {
     "name": "stdout",
     "output_type": "stream",
     "text": [
      "('3.0 + 2.0i', '3.0 - 2.0i')\n"
     ]
    }
   ],
   "source": [
    "def solv_quad_eq(a,b,c):\n",
    "    discriminant = b**2 -(4*a*c)\n",
    "    sq_root_disc = abs((discriminant)**0.5)\n",
    "    \n",
    "    if discriminant <0:\n",
    "        \n",
    "        sol1 = \"{0} + {1}i\".format((-b/2*a),sq_root_disc/(2*a))\n",
    "        sol2 = \"{0} - {1}i\".format((-b/2*a),sq_root_disc/(2*a))\n",
    "        return sol1, sol2\n",
    "    \n",
    "    elif discriminant == 0:\n",
    "        return (-b / (2 * a))\n",
    "\n",
    "    else:\n",
    "        sol1 = (-b + sq_root_disc)/2*a\n",
    "        sol2 = (-b - sq_root_disc)/2*a\n",
    "        return sol1, sol2\n",
    "    \n",
    "\n",
    "a = 1\n",
    "b = 6\n",
    "c = 13\n",
    "if a !=0:\n",
    "    print(solv_quad_eq(1,-6,13))\n",
    "else:\n",
    "    print(\"a cant be zero\")"
   ]
  },
  {
   "cell_type": "markdown",
   "id": "1ab26ea6",
   "metadata": {},
   "source": [
    "### Q5. Write a Python program to swap two variables without temp variable?"
   ]
  },
  {
   "cell_type": "code",
   "execution_count": 20,
   "id": "ad34e111",
   "metadata": {},
   "outputs": [
    {
     "name": "stdout",
     "output_type": "stream",
     "text": [
      "before swap a= 2, b = 5\n",
      "after swap a= 5, b = 2\n"
     ]
    }
   ],
   "source": [
    "def swap(a,b):\n",
    "    a = a+b\n",
    "    b = a-b\n",
    "    a = a-b\n",
    "    return a,b\n",
    "\n",
    "f = 2\n",
    "s= 5\n",
    "\n",
    "print(\"before swap a= {0}, b = {1}\".format(f,s))\n",
    "f,s = swap(f,s) \n",
    "print(\"after swap a= {0}, b = {1}\".format(f,s))"
   ]
  }
 ],
 "metadata": {
  "kernelspec": {
   "display_name": "Python 3 (ipykernel)",
   "language": "python",
   "name": "python3"
  },
  "language_info": {
   "codemirror_mode": {
    "name": "ipython",
    "version": 3
   },
   "file_extension": ".py",
   "mimetype": "text/x-python",
   "name": "python",
   "nbconvert_exporter": "python",
   "pygments_lexer": "ipython3",
   "version": "3.9.12"
  }
 },
 "nbformat": 4,
 "nbformat_minor": 5
}
