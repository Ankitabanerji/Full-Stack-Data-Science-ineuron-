{
 "cells": [
  {
   "cell_type": "markdown",
   "id": "dc8f76e5",
   "metadata": {},
   "source": [
    "# Assignment 7"
   ]
  },
  {
   "cell_type": "markdown",
   "id": "fe9d04f1",
   "metadata": {},
   "source": [
    "### Q1. What is the name of the feature responsible for generating Regex objects?\n",
    "All the regex functions in Python are in the re module <br> \n",
    "`import re` <br>\n",
    "To create a Regex object that matches certain pattern, we use `re.compile(pattern)`"
   ]
  },
  {
   "cell_type": "markdown",
   "id": "cabf427c",
   "metadata": {},
   "source": [
    "### Q2. Why do raw strings often appear in Regex objects?\n",
    "Raw strings are used so that backslashes do not have to be escaped"
   ]
  },
  {
   "cell_type": "code",
   "execution_count": 1,
   "id": "6a513bd0",
   "metadata": {},
   "outputs": [
    {
     "name": "stdout",
     "output_type": "stream",
     "text": [
      "hello \\ world\n"
     ]
    }
   ],
   "source": [
    "eg1 = 'hello \\\\ world'\n",
    "print(eg1)"
   ]
  },
  {
   "cell_type": "code",
   "execution_count": 2,
   "id": "1d45d89b",
   "metadata": {},
   "outputs": [
    {
     "name": "stdout",
     "output_type": "stream",
     "text": [
      "hello \\\\ world\n"
     ]
    }
   ],
   "source": [
    "eg2 = r'hello \\\\ world'\n",
    "print(eg2)"
   ]
  },
  {
   "cell_type": "markdown",
   "id": "a82a71ad",
   "metadata": {},
   "source": [
    "### Q3. What is the return value of the search() method?\n",
    "search() method returns a Match object if there is a match anywhere in the string."
   ]
  },
  {
   "cell_type": "code",
   "execution_count": 6,
   "id": "874e5504",
   "metadata": {},
   "outputs": [
    {
     "name": "stdout",
     "output_type": "stream",
     "text": [
      "<re.Match object; span=(6, 8), match='in'>\n"
     ]
    }
   ],
   "source": [
    "import re\n",
    "txt = \"The rain in india\"\n",
    "print(re.search('in', txt))"
   ]
  },
  {
   "cell_type": "code",
   "execution_count": 5,
   "id": "9ece1a3f",
   "metadata": {},
   "outputs": [
    {
     "name": "stdout",
     "output_type": "stream",
     "text": [
      "None\n"
     ]
    }
   ],
   "source": [
    "print(re.search('hello',txt))"
   ]
  },
  {
   "cell_type": "markdown",
   "id": "4594ea66",
   "metadata": {},
   "source": [
    "### Q4. From a Match item, how do you get the actual strings that match the pattern?\n",
    "The group() method returns the part of the string where there was a match"
   ]
  },
  {
   "cell_type": "code",
   "execution_count": 7,
   "id": "44a72a27",
   "metadata": {},
   "outputs": [
    {
     "name": "stdout",
     "output_type": "stream",
     "text": [
      "in\n"
     ]
    }
   ],
   "source": [
    "txt = \"The rain in india\"\n",
    "s = re.search(r\"in\", txt)\n",
    "print(s.group())"
   ]
  },
  {
   "cell_type": "markdown",
   "id": "21459de2",
   "metadata": {},
   "source": [
    "### Q5. In the regex which created from the r&#39;(\\d\\d\\d)-(\\d\\d\\d-\\d\\d\\d\\d)&#39;, what does group zero cover?Group 2? Group 1?"
   ]
  },
  {
   "cell_type": "code",
   "execution_count": null,
   "id": "6caf6ca0",
   "metadata": {},
   "outputs": [],
   "source": []
  }
 ],
 "metadata": {
  "kernelspec": {
   "display_name": "Python 3 (ipykernel)",
   "language": "python",
   "name": "python3"
  },
  "language_info": {
   "codemirror_mode": {
    "name": "ipython",
    "version": 3
   },
   "file_extension": ".py",
   "mimetype": "text/x-python",
   "name": "python",
   "nbconvert_exporter": "python",
   "pygments_lexer": "ipython3",
   "version": "3.9.12"
  }
 },
 "nbformat": 4,
 "nbformat_minor": 5
}
