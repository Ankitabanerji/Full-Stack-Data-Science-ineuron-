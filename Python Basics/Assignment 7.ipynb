{
 "cells": [
  {
   "cell_type": "markdown",
   "id": "dc8f76e5",
   "metadata": {},
   "source": [
    "# Assignment 7"
   ]
  },
  {
   "cell_type": "markdown",
   "id": "fe9d04f1",
   "metadata": {},
   "source": [
    "### Q1. What is the name of the feature responsible for generating Regex objects?\n",
    "All the regex functions in Python are in the re module <br> \n",
    "`import re` <br>\n",
    "To create a Regex object that matches certain pattern, we use `re.compile(pattern)`"
   ]
  },
  {
   "cell_type": "markdown",
   "id": "cabf427c",
   "metadata": {},
   "source": [
    "### Q2. Why do raw strings often appear in Regex objects?\n",
    "Raw strings are used so that backslashes do not have to be escaped"
   ]
  },
  {
   "cell_type": "code",
   "execution_count": 1,
   "id": "6a513bd0",
   "metadata": {},
   "outputs": [
    {
     "name": "stdout",
     "output_type": "stream",
     "text": [
      "hello \\ world\n"
     ]
    }
   ],
   "source": [
    "eg1 = 'hello \\\\ world'\n",
    "print(eg1)"
   ]
  },
  {
   "cell_type": "code",
   "execution_count": 2,
   "id": "1d45d89b",
   "metadata": {},
   "outputs": [
    {
     "name": "stdout",
     "output_type": "stream",
     "text": [
      "hello \\\\ world\n"
     ]
    }
   ],
   "source": [
    "eg2 = r'hello \\\\ world'\n",
    "print(eg2)"
   ]
  },
  {
   "cell_type": "markdown",
   "id": "a82a71ad",
   "metadata": {},
   "source": [
    "### Q3. What is the return value of the search() method?\n",
    "search() method returns a Match object if there is a match anywhere in the string."
   ]
  },
  {
   "cell_type": "code",
   "execution_count": 6,
   "id": "874e5504",
   "metadata": {},
   "outputs": [
    {
     "name": "stdout",
     "output_type": "stream",
     "text": [
      "<re.Match object; span=(6, 8), match='in'>\n"
     ]
    }
   ],
   "source": [
    "import re\n",
    "txt = \"The rain in india\"\n",
    "print(re.search('in', txt))"
   ]
  },
  {
   "cell_type": "code",
   "execution_count": 5,
   "id": "9ece1a3f",
   "metadata": {},
   "outputs": [
    {
     "name": "stdout",
     "output_type": "stream",
     "text": [
      "None\n"
     ]
    }
   ],
   "source": [
    "print(re.search('hello',txt))"
   ]
  },
  {
   "cell_type": "markdown",
   "id": "4594ea66",
   "metadata": {},
   "source": [
    "### Q4. From a Match item, how do you get the actual strings that match the pattern?\n",
    "The group() method returns the part of the string where there was a match"
   ]
  },
  {
   "cell_type": "code",
   "execution_count": 7,
   "id": "44a72a27",
   "metadata": {},
   "outputs": [
    {
     "name": "stdout",
     "output_type": "stream",
     "text": [
      "in\n"
     ]
    }
   ],
   "source": [
    "txt = \"The rain in india\"\n",
    "s = re.search(r\"in\", txt)\n",
    "print(s.group())"
   ]
  },
  {
   "cell_type": "markdown",
   "id": "21459de2",
   "metadata": {},
   "source": [
    "### Q5. In the regex which created from the r&#39;(\\d\\d\\d)-(\\d\\d\\d-\\d\\d\\d\\d)&#39;, what does group zero cover?Group 2? Group 1?\n",
    "Group 0 gives the entire match.<br>\n",
    "Group 1 gives the first set of parentheses, and<br>\n",
    "Group 2 gives the second set of parentheses."
   ]
  },
  {
   "cell_type": "markdown",
   "id": "3fefd559",
   "metadata": {},
   "source": [
    "### Q6. In standard expression syntax, parentheses and intervals have distinct meanings. How can you tell a regex that you want it to fit real parentheses and periods?\n",
    "We can tell regex that we want it to fit real parentheses and periods using escape characters\n",
    " "
   ]
  },
  {
   "cell_type": "code",
   "execution_count": 1,
   "id": "fbf57aca",
   "metadata": {},
   "outputs": [],
   "source": [
    "#\\) ,\\( can be used for parenthesis and \\. can be used for period"
   ]
  },
  {
   "cell_type": "markdown",
   "id": "dc5b6329",
   "metadata": {},
   "source": [
    "### Q7. The findall() method returns a string list or a list of string tuples. What causes it to return one of the two options?\n",
    "The findall() return all non-overlapping matches of pattern in string, as a list of strings."
   ]
  },
  {
   "cell_type": "code",
   "execution_count": 3,
   "id": "65b8ccdf",
   "metadata": {},
   "outputs": [
    {
     "data": {
      "text/plain": [
       "[('ankitajhumu', 'gmail', 'com'), ('nikita', 'yahoo', 'com')]"
      ]
     },
     "execution_count": 3,
     "metadata": {},
     "output_type": "execute_result"
    }
   ],
   "source": [
    "import re\n",
    "# If the regex has groups, a list of tuples of strings is returned.\n",
    "re.findall(r'(\\w+)@(\\w+)\\.(\\w+)', 'ankitajhumu@gmail.com ; nikita@yahoo.com')"
   ]
  },
  {
   "cell_type": "code",
   "execution_count": 4,
   "id": "e31edf3f",
   "metadata": {},
   "outputs": [
    {
     "data": {
      "text/plain": [
       "['122009', '123456789']"
      ]
     },
     "execution_count": 4,
     "metadata": {},
     "output_type": "execute_result"
    }
   ],
   "source": [
    "# If the regex has no groups, a list of strings is returned.\n",
    "re.findall(r'\\d+','my pin code is 122009 and phone is 123456789')"
   ]
  },
  {
   "cell_type": "markdown",
   "id": "7d58a2e8",
   "metadata": {},
   "source": [
    "### Q8. In standard expressions, what does the | character mean?\n",
    "`|` character is an `Or` symbol. It checks whether the pattern before or after the or symbol is present in the string or not."
   ]
  },
  {
   "cell_type": "markdown",
   "id": "179b7ce0",
   "metadata": {},
   "source": [
    "### Q10.In regular expressions, what is the difference between the + and * characters?\n",
    "`+` symbol matches one or more occurrences of the regex preceding the + symbol. <br>\n",
    "`*` matches zero or more occurrences of the regex preceding the * symbol."
   ]
  },
  {
   "cell_type": "markdown",
   "id": "be03b1a4",
   "metadata": {},
   "source": [
    "### Q11. What is the difference between {4} and {4,5} in regular expression?\n",
    "{4} match exactly 4 occurrences of the regex preceding the {4} symbol.<br>\n",
    "{4,5} match 4 to 5 both inclusive occurrences of the regex preceding the {4,5} symbol."
   ]
  },
  {
   "cell_type": "markdown",
   "id": "32e103d6",
   "metadata": {},
   "source": [
    "### Q12. What do you mean by the \\d, \\w, and \\s shorthand character classes signify in regular expressions?\n",
    "`\\d` Matches any decimal digit in [0-9].<br>\n",
    "`\\w` Matches any alphanumeric character in [a-zA-Z0-9_].<br>\n",
    "`\\s` Matches any whitespace character."
   ]
  },
  {
   "cell_type": "markdown",
   "id": "a27272aa",
   "metadata": {},
   "source": [
    "### Q13. What do means by \\D, \\W, and \\S shorthand character classes signify in regular expressions?\n",
    "`\\D` Matches any non-digit character [^0-9].<br>\n",
    "`\\W` Matches any non-alphanumeric character.<br>\n",
    "`\\S` Matches any non-whitespace character."
   ]
  },
  {
   "cell_type": "markdown",
   "id": "266e772c",
   "metadata": {},
   "source": [
    "### Q14. What is the difference between .? and .?\n",
    "The .* performs a greedy match, and the .*? performs a nongreedy match.\n",
    "\n",
    "Repetition in regex by default is greedy: they try to match as many repetitions as possible, and when this doesn't work and they have to backtrack, they try to match one fewer rep at a time, until a match of the whole pattern is found.\n",
    "\n",
    "The ? as a repetition quantifier changes this behavior into non-greedy. this repetition will first try to match as few reps as possible, and when this doesn't work and they have to backtrack, they start matching one more rept a time."
   ]
  },
  {
   "cell_type": "code",
   "execution_count": 5,
   "id": "a42ab3db",
   "metadata": {},
   "outputs": [
    {
     "data": {
      "text/plain": [
       "['aeioucgggassgc']"
      ]
     },
     "execution_count": 5,
     "metadata": {},
     "output_type": "execute_result"
    }
   ],
   "source": [
    "re.findall(r'a.*c','rrrraeioucgggassgcbbb')"
   ]
  },
  {
   "cell_type": "code",
   "execution_count": 7,
   "id": "204d1d2e",
   "metadata": {},
   "outputs": [
    {
     "data": {
      "text/plain": [
       "['aeiouc', 'assgc']"
      ]
     },
     "execution_count": 7,
     "metadata": {},
     "output_type": "execute_result"
    }
   ],
   "source": [
    "re.findall(r'a.*?c','rrrraeioucgggassgcbbb')"
   ]
  },
  {
   "cell_type": "markdown",
   "id": "47b7e67f",
   "metadata": {},
   "source": [
    "### Q15. What is the syntax for matching both numbers and lowercase letters with a character class?\n",
    "we can use [a-z0-9] or [0-9a-z]"
   ]
  },
  {
   "cell_type": "markdown",
   "id": "f4588096",
   "metadata": {},
   "source": [
    "### Q16. What is the procedure for making a normal expression in regax case insensitive?"
   ]
  },
  {
   "cell_type": "code",
   "execution_count": 8,
   "id": "196ef7ea",
   "metadata": {},
   "outputs": [
    {
     "data": {
      "text/plain": [
       "['ANkiTa']"
      ]
     },
     "execution_count": 8,
     "metadata": {},
     "output_type": "execute_result"
    }
   ],
   "source": [
    "re.findall(r'ankita', 'Hello I am ANkiTa', re.IGNORECASE)"
   ]
  },
  {
   "cell_type": "code",
   "execution_count": 9,
   "id": "a802d3c6",
   "metadata": {},
   "outputs": [
    {
     "data": {
      "text/plain": [
       "['ANkiTa']"
      ]
     },
     "execution_count": 9,
     "metadata": {},
     "output_type": "execute_result"
    }
   ],
   "source": [
    "re.findall(r'(?i)ankita', 'Hello I am ANkiTa')"
   ]
  },
  {
   "cell_type": "markdown",
   "id": "de0718d8",
   "metadata": {},
   "source": [
    "### Q17. What does the . character normally match? What does it match if re.DOTALL is passed as 2nd argument in re.compile()?\n",
    "`.` matches any character except newline. But using `DOTALL` flag in python we can extend its functionality. With the help of DOTALL flag the ‘.’ character can match any character including newline."
   ]
  },
  {
   "cell_type": "markdown",
   "id": "b2d54d59",
   "metadata": {},
   "source": [
    "### Q18. If numReg = re.compile(r'\\d+'), what will numRegex.sub('X', '11 drummers, 10 pipers, five rings, 4 hen') return?"
   ]
  },
  {
   "cell_type": "code",
   "execution_count": 10,
   "id": "acbcd660",
   "metadata": {},
   "outputs": [
    {
     "data": {
      "text/plain": [
       "'X drummers, X pipers, five rings, X hen'"
      ]
     },
     "execution_count": 10,
     "metadata": {},
     "output_type": "execute_result"
    }
   ],
   "source": [
    "#digits will be replaced by X\n",
    "numReg = re.compile(r'\\d+')\n",
    "numReg.sub('X', '11 drummers, 10 pipers, five rings, 4 hen')"
   ]
  },
  {
   "cell_type": "markdown",
   "id": "a6c6d261",
   "metadata": {},
   "source": [
    "### Q19. What does passing re.VERBOSE as the 2nd argument to re.compile() allow to do?\n",
    "The re.VERBOSE argument allows you to add whitespace and comments to the string passed."
   ]
  },
  {
   "cell_type": "markdown",
   "id": "46066f5e",
   "metadata": {},
   "source": [
    "### Q20. How would you write a regex that match a number with comma for every three digits? It must match the given following:\n",
    "'42' '1,234' '6,368,745' <br>\n",
    "\n",
    "but not the following: '12,34,567' (which has only two digits between the commas) '1234' (which lacks commas)"
   ]
  },
  {
   "cell_type": "code",
   "execution_count": 11,
   "id": "d4788cbd",
   "metadata": {},
   "outputs": [
    {
     "data": {
      "text/plain": [
       "<re.Match object; span=(0, 7), match='123,445'>"
      ]
     },
     "execution_count": 11,
     "metadata": {},
     "output_type": "execute_result"
    }
   ],
   "source": [
    "re.search(r'^\\d{3}(,\\d{3})*','123,445') "
   ]
  },
  {
   "cell_type": "markdown",
   "id": "5703bed0",
   "metadata": {},
   "source": [
    "### Q21. How would you write a regex that matches the full name of someone whose last name is Watanabe? You can assume that the first name that comes before it will always be one word that begins with a capital letter. The regex must match the following:\n",
    "'Haruto Watanabe' 'Alice Watanabe' 'RoboCop Watanabe' but not the following: 'haruto Watanabe' (where the first name is not capitalized) 'Mr. Watanabe' (where the preceding word has a nonletter character) 'Watanabe' (which has no first name) 'Haruto watanabe' (where Watanabe is not capitalized)"
   ]
  },
  {
   "cell_type": "code",
   "execution_count": 13,
   "id": "7dd515d7",
   "metadata": {},
   "outputs": [
    {
     "data": {
      "text/plain": [
       "<re.Match object; span=(0, 15), match='Haruto Watanabe'>"
      ]
     },
     "execution_count": 13,
     "metadata": {},
     "output_type": "execute_result"
    }
   ],
   "source": [
    "re.search(r'[A-Z]{1}[a-zA-Z]*\\sWatanabe$','Haruto Watanabe')"
   ]
  },
  {
   "cell_type": "markdown",
   "id": "705a915a",
   "metadata": {},
   "source": [
    "### Q22. How would you write a regex that matches a sentence where the first word is either Alice, Bob, or Carol; the second word is either eats, pets, or throws; the third word is apples, cats, or baseballs; and the sentence ends with a period? This regex should be case-insensitive. It must match the following:\n",
    "'Alice eats apples.' 'Bob pets cats.' 'Carol throws baseballs.' 'Alice throws Apples.' 'BOB EATS CATS.' but not the following: 'RoboCop eats apples.' 'ALICE THROWS FOOTBALLS.' 'Carol eats 7 cats.'\n"
   ]
  },
  {
   "cell_type": "code",
   "execution_count": 14,
   "id": "ce4dc768",
   "metadata": {},
   "outputs": [
    {
     "data": {
      "text/plain": [
       "<re.Match object; span=(0, 14), match='BOB EATS CATS.'>"
      ]
     },
     "execution_count": 14,
     "metadata": {},
     "output_type": "execute_result"
    }
   ],
   "source": [
    "re.search(r'^(Alice|Bob|Carol)\\s(eats|pets|throws)\\s(apples|cats|baseballs)\\.$','BOB EATS CATS.', re.IGNORECASE)"
   ]
  },
  {
   "cell_type": "code",
   "execution_count": null,
   "id": "5f276399",
   "metadata": {},
   "outputs": [],
   "source": []
  }
 ],
 "metadata": {
  "kernelspec": {
   "display_name": "Python 3 (ipykernel)",
   "language": "python",
   "name": "python3"
  },
  "language_info": {
   "codemirror_mode": {
    "name": "ipython",
    "version": 3
   },
   "file_extension": ".py",
   "mimetype": "text/x-python",
   "name": "python",
   "nbconvert_exporter": "python",
   "pygments_lexer": "ipython3",
   "version": "3.9.12"
  }
 },
 "nbformat": 4,
 "nbformat_minor": 5
}
